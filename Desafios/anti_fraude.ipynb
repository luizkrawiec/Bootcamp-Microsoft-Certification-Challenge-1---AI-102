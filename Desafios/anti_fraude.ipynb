{
  "nbformat": 4,
  "nbformat_minor": 0,
  "metadata": {
    "colab": {
      "provenance": []
    },
    "kernelspec": {
      "name": "python3",
      "display_name": "Python 3"
    },
    "language_info": {
      "name": "python"
    }
  },
  "cells": [
    {
      "cell_type": "code",
      "execution_count": null,
      "metadata": {
        "id": "Kkj3zF0nRHAG"
      },
      "outputs": [],
      "source": [
        "from azure.cognitiveservices.vision.computervision import ComputerVisionClient\n",
        "from azure.cognitiveservices.vision.computervision.models import VisualFeatureTypes\n",
        "from msrest.authentication import CognitiveServicesCredentials\n",
        "from PIL import Image\n",
        "import requests\n",
        "import io"
      ]
    },
    {
      "cell_type": "markdown",
      "source": [
        "# **Configuração das Credenciais e Cliente do Azure**\n",
        "\n",
        "Substitua os valores abaixo pela chave de API e o endpoint obtidos ao configurar o recurso Azure Computer Vision."
      ],
      "metadata": {
        "id": "YDLPK3ELRg06"
      }
    },
    {
      "cell_type": "code",
      "source": [
        "# Substitua pelas suas credenciais\n",
        "subscription_key = \"SUA_CHAVE_DE_API\"\n",
        "endpoint = \"URL_DO_SEU_ENDPOINT\"\n",
        "\n",
        "# Inicializa o cliente do Azure Computer Vision\n",
        "computervision_client = ComputerVisionClient(endpoint, CognitiveServicesCredentials(subscription_key))\n"
      ],
      "metadata": {
        "id": "Y5vQw3FgRmHy"
      },
      "execution_count": null,
      "outputs": []
    },
    {
      "cell_type": "markdown",
      "source": [
        "# **Função de Análise de Imagem**\n",
        "\n",
        "A função analyze_credit_card_image abaixo realiza o upload da imagem para o serviço de Computer Vision e obtém uma análise da imagem, procurando objetos e descrições que possam indicar atividade suspeita."
      ],
      "metadata": {
        "id": "M85ifitPRqMd"
      }
    },
    {
      "cell_type": "code",
      "source": [
        "def analyze_credit_card_image(image_path):\n",
        "    try:\n",
        "        # Abre a imagem\n",
        "        with open(image_path, \"rb\") as image:\n",
        "            # Executa a análise visual\n",
        "            analysis = computervision_client.analyze_image_in_stream(\n",
        "                image,\n",
        "                visual_features=[VisualFeatureTypes.objects, VisualFeatureTypes.description]\n",
        "            )\n",
        "\n",
        "        # Verifica objetos detectados e informações descritivas\n",
        "        if analysis.objects:\n",
        "            for obj in analysis.objects:\n",
        "                print(f\"Objeto detectado: {obj.object_property}, Confiança: {obj.confidence}\")\n",
        "\n",
        "        if analysis.description.captions:\n",
        "            for caption in analysis.description.captions:\n",
        "                print(f\"Descrição: {caption.text}, Confiança: {caption.confidence}\")\n",
        "\n",
        "        # Realiza verificações anti-fraude\n",
        "        # Implementação de regras específicas, como verificar presença de números, logotipos, etc.\n",
        "        fraud_suspected = False\n",
        "        for obj in analysis.objects:\n",
        "            if obj.object_property.lower() in [\"card\", \"number\"]:\n",
        "                fraud_suspected = True\n",
        "                break\n",
        "\n",
        "        if fraud_suspected:\n",
        "            print(\"Possível atividade fraudulenta detectada!\")\n",
        "        else:\n",
        "            print(\"Nenhuma atividade suspeita detectada.\")\n",
        "\n",
        "    except Exception as e:\n",
        "        print(f\"Ocorreu um erro: {e}\")\n"
      ],
      "metadata": {
        "id": "QWFDqnlmRwAZ"
      },
      "execution_count": null,
      "outputs": []
    },
    {
      "cell_type": "markdown",
      "source": [
        "# **Execução e Testes**\n",
        "\n",
        "Para testar a função de análise, defina o caminho para a imagem de cartão de crédito e execute o código."
      ],
      "metadata": {
        "id": "ZqoYKTo-R5JO"
      }
    },
    {
      "cell_type": "markdown",
      "source": [
        "# **Considerações Finais**\n",
        "\n",
        "Esse código serve como base para um sistema anti-fraude mais complexo. Para aprimorar:\n",
        "\n",
        "    Reconhecimento óptico de caracteres (OCR): O serviço Azure Computer Vision oferece OCR, útil para extrair números da imagem e verificar se seguem o formato de números válidos de cartões de crédito.\n",
        "    Regras Personalizadas: Adicione verificações adicionais, como padrões específicos de números ou elementos visuais característicos."
      ],
      "metadata": {
        "id": "xjuGkJqUSEtg"
      }
    }
  ]
}